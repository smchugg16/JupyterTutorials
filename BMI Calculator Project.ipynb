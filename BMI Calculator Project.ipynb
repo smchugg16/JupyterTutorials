{
 "cells": [
  {
   "cell_type": "markdown",
   "id": "771089ee",
   "metadata": {},
   "source": [
    "## Adult BMI Calculator "
   ]
  },
  {
   "cell_type": "code",
   "execution_count": 17,
   "id": "463cd6b3",
   "metadata": {},
   "outputs": [
    {
     "name": "stdout",
     "output_type": "stream",
     "text": [
      "Enter your name here: Barb\n",
      "Enter your weight in pounds: 95\n",
      "Enter your height in inches: 69\n",
      "Barb, your BMI is 14.0275152278933\n",
      "Barb, you are underweight. You have an increased health risk.\n"
     ]
    }
   ],
   "source": [
    "#User Input section\n",
    "name = input(\"Enter your name here: \")\n",
    "\n",
    "weight = int(input(\"Enter your weight in pounds: \"))\n",
    "\n",
    "height = int(input(\"Enter your height in inches: \"))\n",
    "\n",
    "#Calculation of BMI- 703*weight(lbs) / height(in)^2 \n",
    "BMI = (weight * 703) / (height * height)\n",
    "\n",
    "#Return Name + BMI \n",
    "print(name + \", your BMI is \" + str(BMI))\n",
    "\n",
    "#if/else statements returning Range based upon BMI \n",
    "\n",
    "if BMI>0:\n",
    "    if(BMI<18.5):\n",
    "        print(name+\", you are underweight. You have an increased health risk.\")\n",
    "    elif(BMI<=24.9):\n",
    "        print(name+\", you are in the optimum weight range for your height.\")\n",
    "    elif (BMI<29.9):\n",
    "        print(name +\", you are overweight. You have an increased health risk.\")\n",
    "    elif (BMI<34.9):\n",
    "        print(name +\", you are obese. You have a high health risk.\")\n",
    "    elif (BMI<39.9):\n",
    "        print(name +\", you are severely obese. You have a very high health risk.\")\n",
    "    else:\n",
    "        print(name +\", you are morbidly obese. You have an extremely high health risk.\")\n",
    "else: \n",
    "    print(\"Please enter valid input\")\n",
    "\n",
    "    "
   ]
  },
  {
   "cell_type": "code",
   "execution_count": 12,
   "id": "471cc044",
   "metadata": {},
   "outputs": [],
   "source": [
    "##Ranges & Health Risk:\n",
    "#Under 18.5\tUnderweight\tIncreased\n",
    "#18.5 - 24.9\tNormal Weight\tMinimal\n",
    "#25 - 29.9\tOverweight\tIncreased\n",
    "#30 - 34.9\tObese\tHigh\n",
    "#35 - 39.9\tSeverely Obese\tVery High\n",
    "#40 and over\tMorbidly Obese\tExtremely High"
   ]
  },
  {
   "cell_type": "code",
   "execution_count": null,
   "id": "c4274bcc",
   "metadata": {},
   "outputs": [],
   "source": []
  }
 ],
 "metadata": {
  "kernelspec": {
   "display_name": "Python 3 (ipykernel)",
   "language": "python",
   "name": "python3"
  },
  "language_info": {
   "codemirror_mode": {
    "name": "ipython",
    "version": 3
   },
   "file_extension": ".py",
   "mimetype": "text/x-python",
   "name": "python",
   "nbconvert_exporter": "python",
   "pygments_lexer": "ipython3",
   "version": "3.9.13"
  }
 },
 "nbformat": 4,
 "nbformat_minor": 5
}
